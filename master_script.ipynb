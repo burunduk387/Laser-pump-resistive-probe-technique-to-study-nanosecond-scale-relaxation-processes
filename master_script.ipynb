{
  "nbformat": 4,
  "nbformat_minor": 0,
  "metadata": {
    "colab": {
      "provenance": []
    },
    "kernelspec": {
      "name": "python3",
      "display_name": "Python 3"
    },
    "language_info": {
      "name": "python"
    }
  },
  "cells": [
    {
      "cell_type": "code",
      "execution_count": null,
      "metadata": {
        "id": "nojTYg-wKIkg"
      },
      "outputs": [],
      "source": [
        "import subprocess\n",
        "import numpy as np\n",
        "from glob import glob\n",
        "import matplotlib\n",
        "from scipy import integrate\n",
        "import matplotlib.pyplot as plt\n",
        "import time\n",
        "from tqdm import tqdm\n",
        "import gc\n",
        "import platform\n",
        "import warnings\n",
        "import copy\n",
        "import matplotlib.transforms as mtransforms\n",
        "from scipy.stats import bootstrap\n",
        "from scipy.stats._common import ConfidenceInterval\n",
        "import json\n",
        "from glob import glob\n",
        "import threading\n",
        "import new_acquisition\n",
        "import new_postprocessing\n",
        "import multiprocessing as mp"
      ]
    },
    {
      "cell_type": "code",
      "source": [
        "rr = glob(\"\")"
      ],
      "metadata": {
        "id": "m6JlHM_MBCd_"
      },
      "execution_count": null,
      "outputs": []
    },
    {
      "cell_type": "code",
      "source": [
        "subprocess.run([\"python\", \"new_acquisition.py\"])"
      ],
      "metadata": {
        "id": "B6BjnmMk9UqP"
      },
      "execution_count": null,
      "outputs": []
    },
    {
      "cell_type": "code",
      "source": [
        "def run_every_n_seconds(seconds, action, *args):\n",
        "  threading.Timer(seconds, run_every_n_seconds, [seconds, action] + list(args)).start()\n",
        "  action(*args)"
      ],
      "metadata": {
        "id": "4H4kmN6j_0lN"
      },
      "execution_count": null,
      "outputs": []
    },
    {
      "cell_type": "code",
      "source": [
        "def task():\n",
        "  p = mp.Process(target=new_postprocessing.read_v2, args=rr)\n",
        "  p2 = mp.Process(target = new_postprocessing.visual_check, args = rr, boundaries=[])\n",
        "  p.start()\n",
        "  p.join()\n",
        "  p2.start()\n",
        "  p2.join()\n",
        "  ch1 = []\n",
        "  ch2 = []\n",
        "\n",
        "  boundaries = ch1 + ch2\n",
        "  vv = new_postprocessing.to_volts(rr, boundaries, method=\"bounded_integrate\")\n",
        "  res = new_postprocessing.to_resistance(vv)\n",
        "  new_postprocessing.plotter(res, min_points=10, title=\"\")\n",
        "\n"
      ],
      "metadata": {
        "id": "C2iBbHByAQDw"
      },
      "execution_count": null,
      "outputs": []
    },
    {
      "cell_type": "code",
      "source": [
        "if __name__ == '__main__':\n",
        "      run_every_n_seconds(10,task)\n"
      ],
      "metadata": {
        "id": "E2Thvmss8k-b"
      },
      "execution_count": null,
      "outputs": []
    }
  ]
}