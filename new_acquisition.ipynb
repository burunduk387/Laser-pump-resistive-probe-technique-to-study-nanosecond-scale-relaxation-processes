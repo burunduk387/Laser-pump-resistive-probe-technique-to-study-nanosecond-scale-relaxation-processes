{
  "nbformat": 4,
  "nbformat_minor": 0,
  "metadata": {
    "colab": {
      "provenance": []
    },
    "kernelspec": {
      "name": "python3",
      "display_name": "Python 3"
    },
    "language_info": {
      "name": "python"
    }
  },
  "cells": [
    {
      "cell_type": "code",
      "execution_count": 4,
      "metadata": {
        "id": "nNv489l3t3w4"
      },
      "outputs": [],
      "source": [
        "#import pyvisa\n",
        "#from pyvisa.constants import StopBits, Parity\n",
        "import os\n",
        "import numpy as np\n",
        "import matplotlib.pyplot as plt\n",
        "from tqdm import tqdm\n",
        "import time\n",
        "import datetime as dt\n",
        "import json\n",
        "import pickle\n",
        "\n",
        "#from pyvisa.constants import StopBits, Parity"
      ]
    },
    {
      "cell_type": "code",
      "source": [
        "rm = pyvisa.ResourceManager()"
      ],
      "metadata": {
        "id": "e0gUk3t_uMdl"
      },
      "execution_count": null,
      "outputs": []
    },
    {
      "cell_type": "code",
      "source": [
        "rm.list_resources()"
      ],
      "metadata": {
        "id": "sp3xKwaBuM90"
      },
      "execution_count": null,
      "outputs": []
    },
    {
      "cell_type": "code",
      "source": [
        "class TemperatureControlller:\n",
        "    def __init__(self, type_tc: str = \"room\", address: str = \"\"):\n",
        "        self.type_tc = type_tc\n",
        "        if type_tc == \"LSCI\":\n",
        "            self.device = rm.open_resource(\n",
        "                address,\n",
        "                baud_rate=9600,\n",
        "                data_bits=7,\n",
        "                parity=Parity.odd,\n",
        "                stop_bits=StopBits.one,\n",
        "                read_termination=\"\\r\\n\",\n",
        "            )\n",
        "            return self.device.query(\"*IDN?\")\n",
        "        elif type_tc == \"Lakeshore\":\n",
        "            pass\n",
        "        else:\n",
        "            self.device = None\n",
        "\n",
        "    def __call__(self, channel: str = \"A\"):\n",
        "        if self.type_tc == \"room\":\n",
        "            return str(22 + 273.15)\n",
        "        if channel == \"AB\":\n",
        "            return (\n",
        "                str(float(self.device.query(\"KRDG? A\").strip()))\n",
        "                + \"o\"\n",
        "                + str(float(self.device.query(\"KRDG? B\").strip()))\n",
        "            )\n",
        "        else:\n",
        "            return str(float(self.device.query(\"KRDG? \" + channel).strip()))\n",
        "\n",
        "    def idn(self):\n",
        "        if self.type_tc != \"room\":\n",
        "            return self.device.query(\"*IDN?\")\n",
        "        else:\n",
        "            return \"RoomTemperatureController\""
      ],
      "metadata": {
        "id": "h4VW_xQWuOhF"
      },
      "execution_count": null,
      "outputs": []
    },
    {
      "cell_type": "code",
      "source": [
        "oscil = rm.open_resource(\"TCPIP0::192.168.1.45::INSTR\")\n",
        "gen = rm.open_resource(\"USB0::0x0699::0x0356::C020295::INSTR\")\n",
        "temp = TemperatureControlller(type_tc=\"room\")"
      ],
      "metadata": {
        "id": "uiDzbc5xuV_i"
      },
      "execution_count": null,
      "outputs": []
    },
    {
      "cell_type": "code",
      "source": [
        "print(\"Oscilloscope:\", oscil.query(\"*IDN?\"))\n",
        "print(\"Generator:\", gen.query(\"*IDN?\"))\n",
        "print(\"Temperature controller:\", temp.idn())"
      ],
      "metadata": {
        "id": "PVrbKfKcuWhS"
      },
      "execution_count": null,
      "outputs": []
    },
    {
      "cell_type": "code",
      "source": [
        "path = \"\" # path to save data, str\n",
        "\n",
        "expnum = \"\" # number of the experiment, str\n",
        "sample = \"\" # sample id, str\n",
        "width = \"\" # probe width, str\n",
        "lead = \"\" # probe lead, str\n",
        "trail = \"\" # probe trail, str\n",
        "timeimp = \"\" # distance between laser pulses, 2sec, etc., str\n",
        "amplimp = \"\" # probe amplitude\n",
        "laserpower = \"\" # percent \"o\" mW on ONE OUTPUT times 100 -- set on PHAROS, str\n",
        "sysdelay=\"\" # system delay, 40 \\mu s +- N ns, e. g. 40003\n",
        "channel_count = 3 # V_1, V_2, photodiode\n",
        "trial_count = 1 # how many trials to record one after another, int\n",
        "trial_writes = 20 # point to average\n",
        "power_divider = \"\" # a coeff for PHAROS power to power on the sample conversion, str\n",
        "oscil.timeout = 10000 # 10 sec, has to larger than timeimp"
      ],
      "metadata": {
        "id": "QJEmXzWMuZk6"
      },
      "execution_count": null,
      "outputs": []
    },
    {
      "cell_type": "code",
      "source": [
        "times = []\n",
        "\n",
        "times = [int(i) for i in times]\n",
        "\n",
        "for i in range(len(times)):\n",
        "    times[i] += int(sysdelay)\n",
        "\n",
        "print(times)"
      ],
      "metadata": {
        "id": "bkekMlq8ubei"
      },
      "execution_count": null,
      "outputs": []
    },
    {
      "cell_type": "code",
      "source": [
        "oscil.write(\":TRIGger:SWEep SINGle\")\n",
        "oscil.write(\":TIMebase:SCALe 500E-9\")\n",
        "oscil.write(\":TIMebase:POSition 0\")\n",
        "oscil.write(\":ACQuire:SRATe:ANALog MAX\")\n",
        "for i in range(trial_count):\n",
        "    folder = path + str(i) + \"/\"\n",
        "    try:\n",
        "        os.mkdir(path)\n",
        "    except:\n",
        "        pass\n",
        "    try:\n",
        "        os.mkdir(folder)\n",
        "    except:\n",
        "        pass\n",
        "    for i in tqdm(times):\n",
        "        raw_data = {'ch1': '0', 'ch2': '0','ch3':'0'}\n",
        "        for j in range(1,channel_count+1):\n",
        "          temp_zabiv = []\n",
        "          for k in range(trial_writes):\n",
        "            temp_zabiv.append([])\n",
        "          raw_data['ch'+str(j)] = temp_zabiv\n",
        "\n",
        "        measurment_per_num = {'ch1': '0', 'ch2':'0','ch3':'0'}\n",
        "        for k in range(trial_writes):\n",
        "            num = str(k)\n",
        "            #measurment_per_num = {'ch1': [a_1,a_2,...],'ch2': ...}\n",
        "            current_heater = temp(channel=\"AB\")\n",
        "            timestr = str(i) + \"ns\"\n",
        "            gen.write(\":BURSt:TDELay \" + timestr)\n",
        "            real_delay = gen.query(\":BURSt:TDELay?\").strip()\n",
        "\n",
        "            # Blocking call SINGLE\n",
        "            tmp = oscil.query(\":DIGitize;*OPC?\")\n",
        "\n",
        "            # Preamble save\n",
        "            preamble = oscil.query(\":WAVeform:PREamble?\")\n",
        "\n",
        "            with open(\n",
        "                folder\n",
        "                + f\"{expnum}_preamble_{real_delay}_generatordelay_{sysdelay}_powdiv_{power_divider}.txt\",\n",
        "                \"w\",\n",
        "            ) as f:\n",
        "                for i in len(preamble.split(','))\n",
        "\n",
        "\n",
        "                m = preamble.split(',')\n",
        "                preamble_data = \"<format>, <type>, <points>, <count> , <X increment>, <X origin>, <X reference>, <Y increment>, <Y origin>, <Y reference>, <coupling>, <X display range>, <X display origin>, <Y display range>, <Y display origin>, <date>, <time>, <frame model #>, <acquisition mode>, <completion>, <X units>, <Y units>, <max bandwidth limit>, <min bandwidth limit>\"\n",
        "                preamble_data_m = preamble_data.split(',')\n",
        "\n",
        "\n",
        "                preambule_dict = {'<format>':'0'}\n",
        "                for i in range(len(m)):\n",
        "                    preambule_dict[preamble_data_m[i]] = m[i]\n",
        "                for key, value in preambule_dict.items():\n",
        "                  f.write(f'{key}: {value}\\n')\n",
        "\n",
        "\n",
        "\n",
        "\n",
        "        # Work N channels\n",
        "            for channel in range(channel_count):\n",
        "                ch = str(channel + 1)\n",
        "                oscil.write(\":WAVeform:SOURce CHAN\" + ch)\n",
        "                response = oscil.query(\":WAVeform:SOURce?\")\n",
        "                if response.strip() == (\"CHAN\" + ch):\n",
        "                    a = oscil.query(\":WAVeform:DATA?\")\n",
        "                    tmp_data = raw_data.get('ch'+ch)\n",
        "                    tmp_data[num] = a\n",
        "                    raw_data['ch'+ch] = tmp_data\n",
        "                else:\n",
        "                    print(response.strip(), \"I died\")\n",
        "                    break\n",
        "\n",
        "        attribs = {'expnum':expnum, 'sample':sample,'real_delay':real_delay,'current_heater':current_heater,'width':width, 'lead':lead, 'trail':trail,'timeimp':timeimp, 'laserpower':laserpower, 'amplimp':amplimp, 'raw_data':raw_data}\n",
        "        with open(str(channel), \"w\", encoding=\"utf-8\") as file:\n",
        "          json.dump(attribs, file)\n",
        ""
      ],
      "metadata": {
        "id": "TR27AoQbudbK"
      },
      "execution_count": null,
      "outputs": []
    }
  ]
}