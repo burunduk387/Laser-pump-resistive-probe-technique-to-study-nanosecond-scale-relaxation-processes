{
 "cells": [
  {
   "cell_type": "code",
   "execution_count": null,
   "id": "3b992c44",
   "metadata": {},
   "outputs": [],
   "source": [
    "import pyvisa\n",
    "from pyvisa.constants import StopBits, Parity\n",
    "import os\n",
    "import numpy as np\n",
    "import matplotlib.pyplot as plt\n",
    "from tqdm import tqdm\n",
    "import time\n",
    "import datetime as dt\n",
    "from pyvisa.constants import StopBits, Parity"
   ]
  },
  {
   "cell_type": "code",
   "execution_count": null,
   "id": "2487a770",
   "metadata": {},
   "outputs": [],
   "source": [
    "# The code is pretty simple -- record data from N channels for M times"
   ]
  },
  {
   "cell_type": "code",
   "execution_count": null,
   "id": "7ca6de55",
   "metadata": {},
   "outputs": [],
   "source": [
    "rm = pyvisa.ResourceManager()"
   ]
  },
  {
   "cell_type": "code",
   "execution_count": null,
   "id": "7dd97837",
   "metadata": {},
   "outputs": [],
   "source": [
    "rm.list_resources()"
   ]
  },
  {
   "cell_type": "code",
   "execution_count": null,
   "id": "4e35b1e6",
   "metadata": {},
   "outputs": [],
   "source": [
    "class TemperatureControlller:\n",
    "    def __init__(self, type_tc: str = \"room\", address: str = \"\"):\n",
    "        self.type_tc = type_tc\n",
    "        if type_tc == \"LSCI\":\n",
    "            self.device = rm.open_resource(\n",
    "                address,\n",
    "                baud_rate=9600,\n",
    "                data_bits=7,\n",
    "                parity=Parity.odd,\n",
    "                stop_bits=StopBits.one,\n",
    "                read_termination=\"\\r\\n\",\n",
    "            )\n",
    "            return self.device.query(\"*IDN?\")\n",
    "        elif type_tc == \"Lakeshore\":\n",
    "            pass\n",
    "        else:\n",
    "            self.device = None\n",
    "\n",
    "    def __call__(self, channel: str = \"A\"):\n",
    "        if self.type_tc == \"room\":\n",
    "            return str(22 + 273.15)\n",
    "        if channel == \"AB\":\n",
    "            return (\n",
    "                str(float(self.device.query(\"KRDG? A\").strip()))\n",
    "                + \"o\"\n",
    "                + str(float(self.device.query(\"KRDG? B\").strip()))\n",
    "            )\n",
    "        else:\n",
    "            return str(float(self.device.query(\"KRDG? \" + channel).strip()))\n",
    "\n",
    "    def idn(self):\n",
    "        if self.type_tc != \"room\":\n",
    "            return self.device.query(\"*IDN?\")\n",
    "        else:\n",
    "            return \"RoomTemperatureController\""
   ]
  },
  {
   "cell_type": "markdown",
   "id": "b3fb4942",
   "metadata": {},
   "source": [
    " # CONFIG"
   ]
  },
  {
   "cell_type": "code",
   "execution_count": null,
   "id": "2554c0a9",
   "metadata": {},
   "outputs": [],
   "source": [
    "oscil = rm.open_resource(\"TCPIP0::192.168.1.45::INSTR\")\n",
    "gen = rm.open_resource(\"USB0::0x0699::0x0356::C020295::INSTR\")\n",
    "temp = TemperatureControlller(type_tc=\"room\")"
   ]
  },
  {
   "cell_type": "code",
   "execution_count": null,
   "id": "afe1a1a9",
   "metadata": {},
   "outputs": [],
   "source": [
    "# check idns\n",
    "\n",
    "print(\"Oscilloscope:\", oscil.query(\"*IDN?\"))\n",
    "print(\"Generator:\", gen.query(\"*IDN?\"))\n",
    "print(\"Temperature controller:\", temp.idn())"
   ]
  },
  {
   "cell_type": "code",
   "execution_count": null,
   "id": "1868f6e7",
   "metadata": {},
   "outputs": [],
   "source": [
    "path = \"\" # path to save data, str\n",
    "\n",
    "expnum = \"\" # number of the experiment, str\n",
    "sample = \"\" # sample id, str\n",
    "width = \"\" # probe width, str\n",
    "lead = \"\" # probe lead, str\n",
    "trail = \"\" # probe trail, str\n",
    "timeimp = \"\" # distance between laser pulses, 2sec, etc., str\n",
    "amplimp = \"\" # probe amplitude\n",
    "laserpower = \"\" # percent \"o\" mW on ONE OUTPUT times 100 -- set on PHAROS, str\n",
    "sysdelay=\"\" # system delay, 40 \\mu s +- N ns, e. g. 40003\n",
    "channel_count = 3 # V_1, V_2, photodiode\n",
    "trial_count = 1 # how many trials to record one after another, int\n",
    "trial_writes = 20 # point to average\n",
    "power_divider = \"\" # a coeff for PHAROS power to power on the sample conversion, str\n",
    "oscil.timeout = 10000 # 10 sec, has to larger than timeimp"
   ]
  },
  {
   "cell_type": "code",
   "execution_count": null,
   "id": "7ee08055",
   "metadata": {},
   "outputs": [],
   "source": [
    "times = []\n",
    "\n",
    "times = [int(i) for i in times]\n",
    "\n",
    "for i in range(len(times)):\n",
    "    times[i] += int(sysdelay)\n",
    "    \n",
    "print(times)"
   ]
  },
  {
   "cell_type": "code",
   "execution_count": null,
   "id": "c0ee0cdb",
   "metadata": {},
   "outputs": [],
   "source": [
    "oscil.write(\":TRIGger:SWEep SINGle\")\n",
    "oscil.write(\":TIMebase:SCALe 500E-9\")\n",
    "oscil.write(\":TIMebase:POSition 0\")\n",
    "oscil.write(\":ACQuire:SRATe:ANALog MAX\")\n",
    "for i in range(trial_count):\n",
    "    folder = path + str(i) + \"/\"\n",
    "    try:\n",
    "        os.mkdir(path)\n",
    "    except:\n",
    "        pass\n",
    "    try:\n",
    "        os.mkdir(folder)\n",
    "    except:\n",
    "        pass \n",
    "    for i in tqdm(times):\n",
    "        for k in range(trial_writes):\n",
    "            num = str(k)\n",
    "            current_heater = temp(channel=\"AB\")\n",
    "            timestr = str(i) + \"ns\"\n",
    "            gen.write(\":BURSt:TDELay \" + timestr)\n",
    "            real_delay = gen.query(\":BURSt:TDELay?\").strip()\n",
    "\n",
    "            # Blocking call SINGLE\n",
    "            tmp = oscil.query(\":DIGitize;*OPC?\")\n",
    "            \n",
    "            # Preamble save\n",
    "            preamble = oscil.query(\":WAVeform:PREamble?\")\n",
    "            with open(\n",
    "                folder\n",
    "                + f\"{expnum}_preamble_{real_delay}_generatordelay_{sysdelay}_powdiv_{power_divider}.txt\",\n",
    "                \"w\",\n",
    "            ) as f:\n",
    "                f.write(preamble)\n",
    "\n",
    "            # Work N channels\n",
    "            for channel in range(channel_count):\n",
    "                ch = str(channel + 1)\n",
    "                oscil.write(\":WAVeform:SOURce CHAN\" + ch)\n",
    "                response = oscil.query(\":WAVeform:SOURce?\")\n",
    "                if response.strip() == (\"CHAN\" + ch):\n",
    "                    a = oscil.query(\":WAVeform:DATA?\")\n",
    "                    with open(\n",
    "                        folder\n",
    "                        + f\"{expnum}_{sample}_{real_delay}_{current_heater}_{width}_{lead}_{trail}_{timeimp}_{laserpower}_{amplimp}_CH{ch}-{num}.txt\",\n",
    "                        \"w\",\n",
    "                    ) as f:\n",
    "                        f.write(a)\n",
    "                else:\n",
    "                    print(response.strip(), \"I died\")\n",
    "                    break"
   ]
  },
  {
   "cell_type": "code",
   "execution_count": null,
   "id": "75ae1a18",
   "metadata": {},
   "outputs": [],
   "source": []
  }
 ],
 "metadata": {
  "kernelspec": {
   "display_name": "Python 3 (ipykernel)",
   "language": "python",
   "name": "python3"
  },
  "language_info": {
   "codemirror_mode": {
    "name": "ipython",
    "version": 3
   },
   "file_extension": ".py",
   "mimetype": "text/x-python",
   "name": "python",
   "nbconvert_exporter": "python",
   "pygments_lexer": "ipython3",
   "version": "3.9.7"
  }
 },
 "nbformat": 4,
 "nbformat_minor": 5
}
